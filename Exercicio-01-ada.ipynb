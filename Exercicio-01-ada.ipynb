{
 "cells": [
  {
   "cell_type": "markdown",
   "metadata": {},
   "source": [
    "1) Faça um programa que peça a idade do usuário e \n",
    "imprima se ele é maior ou menor de 18 anos. "
   ]
  },
  {
   "cell_type": "code",
   "execution_count": 2,
   "metadata": {},
   "outputs": [
    {
     "name": "stdout",
     "output_type": "stream",
     "text": [
      "Você é maior de 18 anos\n"
     ]
    }
   ],
   "source": [
    "idade = int(input('Digite sua idade'))\n",
    "\n",
    "if idade < 18:\n",
    "    print('você é menor de 18 anos')\n",
    "else:\n",
    "    print('Você é maior de 18 anos')    "
   ]
  },
  {
   "cell_type": "markdown",
   "metadata": {},
   "source": [
    "2) Faça um programa que peça um número e \n",
    "mostre se ele é positivo ou negativo. Alternativa: adicione zero"
   ]
  },
  {
   "cell_type": "code",
   "execution_count": 9,
   "metadata": {},
   "outputs": [
    {
     "name": "stdout",
     "output_type": "stream",
     "text": [
      "Positivo\n"
     ]
    }
   ],
   "source": [
    "numero = int(input('Digite um número'))\n",
    "\n",
    "if numero < 0:\n",
    "   print ('Negativo')\n",
    "elif numero > 0:\n",
    "   print('Positivo')\n",
    "else:\n",
    "   print('Zero')      \n"
   ]
  },
  {
   "cell_type": "markdown",
   "metadata": {},
   "source": [
    "3) Faça um programa que peça dois números e mostre o maior deles. "
   ]
  },
  {
   "cell_type": "code",
   "execution_count": 13,
   "metadata": {},
   "outputs": [
    {
     "name": "stdout",
     "output_type": "stream",
     "text": [
      "Numero 2 é maior\n"
     ]
    }
   ],
   "source": [
    "numero_1 = int(input('Digite o primeiro numero'))\n",
    "numero_2 = int(input('Digite o segundo numero'))\n",
    "\n",
    "if numero_1 > numero_2:\n",
    "    print('Numero 1 é maior')\n",
    "elif numero_1 == numero_2:\n",
    "    print('Os Numeros são iguais')\n",
    "else:\n",
    "    print('Numero 2 é maior')        "
   ]
  },
  {
   "cell_type": "markdown",
   "metadata": {},
   "source": [
    "3) Faça um programa que leia a validade das informações: a. Idade: entre 0 e 150; b. \n",
    "Salário: maior que 0; c. Sexo: M, F ou Outro;\n",
    "O programa deve imprimir uma mensagem de erro para cada informação inválida."
   ]
  },
  {
   "cell_type": "code",
   "execution_count": 1,
   "metadata": {},
   "outputs": [
    {
     "name": "stdout",
     "output_type": "stream",
     "text": [
      "Seja bem vindo\n"
     ]
    }
   ],
   "source": [
    "idade = int(input('Digite sua idade'))\n",
    "salario = float(input('Digite seu salario'))\n",
    "sexo = input(input('Digite seu sexo: M, F'))\n",
    "\n",
    "if idade <= 0 or idade >= 150:\n",
    "    print('Idade incorreta tente novamente')\n",
    "if salario <= 0:\n",
    "    print('Salario incorreto')\n",
    "if sexo.upper() != 'M' and sexo.upper() !='f':\n",
    "    print('Genero incorreto tente novamente')\n",
    "else:\n",
    "    print('Seja bem vindo')                 \n",
    "\n",
    "    \n",
    "    \n",
    "    "
   ]
  },
  {
   "cell_type": "markdown",
   "metadata": {},
   "source": [
    "5) Escreva um programa que peça a nota de 3 provas de um aluno e verifique se ele \n",
    "passou ou não de ano. Obs.: O aluno irá passar de ano se sua média para maior que 6."
   ]
  },
  {
   "cell_type": "code",
   "execution_count": 5,
   "metadata": {},
   "outputs": [
    {
     "name": "stdout",
     "output_type": "stream",
     "text": [
      "Seu resultado é 10.0 você está aprovado\n"
     ]
    }
   ],
   "source": [
    "nota_01 = float(input('Digite sua nota em matematica'))\n",
    "nota_02 = float(input('Digite sua nota em portugues'))\n",
    "nota_03 = float(input('Digite sua nota em historia'))\n",
    "\n",
    "resultado = (nota_01 + nota_02 + nota_03)/3\n",
    "\n",
    "if resultado >= 6:\n",
    "   print(f\"Seu resultado é {resultado} você está aprovado\")\n",
    "elif resultado >= 3:\n",
    "   print(f\"Seu resultado é {resultado} você está em recuperação\")\n",
    "else:\n",
    "   print(f\"Sua nota é {resultado} você está reprovado\")      "
   ]
  },
  {
   "cell_type": "markdown",
   "metadata": {},
   "source": [
    "6) Faça um programa que mostre uma questão de múltipla escolha com 5 opções (letras a, b, c, d, e). Sabendo a  resposta certa, \n",
    "o programa deve receber a opção d o usuário e informar a letra que o  usuário marcou e se a resposta está certa ou errada."
   ]
  },
  {
   "cell_type": "code",
   "execution_count": 15,
   "metadata": {},
   "outputs": [
    {
     "name": "stdout",
     "output_type": "stream",
     "text": [
      "Castiel é um ?\n",
      "A. Um Anjo\n",
      "B. Um demônio\n",
      "C. Um arcanjo\n",
      "D. Um humano\n",
      "E. Uma galinha\n",
      "Sua resposta foi a letra a está correta\n"
     ]
    }
   ],
   "source": [
    "#questão\n",
    "print(\n",
    "'Castiel é um ?\\n'   \n",
    "    'A. Um Anjo\\n'\n",
    "    'B. Um demônio\\n'\n",
    "    'C. Um arcanjo\\n'\n",
    "    'D. Um humano\\n'\n",
    "    'E. Uma galinha')\n",
    "\n",
    "resposta = input('Qual é a questão correta ? Digite A, B, C, D ou E')\n",
    "\n",
    "if resposta.upper() == 'A':\n",
    "    print (f'Sua resposta foi a letra {resposta} está correta')\n",
    "elif resposta.upper() == 'B' or resposta.upper() == 'C' or resposta.upper() == 'D' or resposta.upper() == 'E':\n",
    "    print(f'Sua resposta foi a letra {resposta} está errada')\n"
   ]
  },
  {
   "cell_type": "markdown",
   "metadata": {},
   "source": [
    "7) Vamos fazer um programa para verificar quem é o assassino de um crime. Para descobrir o assassino, a polícia faz um pequeno questionário com 5 perguntas onde a resposta só pode ser sim ou não: a. Mora perto da \n",
    "vítima? b. Já trabalhou com a vítima? c. Telefonou para a vítima? d. Esteve nenhum local comete crime? e. Devia para a vítima? Cada resposta sim dá um ponto para o suspeito. A polícia considera que os suspeitos com 5 pontos são os assassinos, \n",
    "com 4 a 3 pontos são cúmplices e 2 pontos igual a suspeito 0 pontos liberado"
   ]
  },
  {
   "cell_type": "code",
   "execution_count": 32,
   "metadata": {},
   "outputs": [
    {
     "name": "stdout",
     "output_type": "stream",
     "text": [
      "Digite \"sim\" ou \"não\" para cada pergunta\n",
      "inocente 0\n"
     ]
    }
   ],
   "source": [
    "print('Digite \"sim\" ou \"não\" para cada pergunta')\n",
    "a = input('A) Mora perto da vítima?')\n",
    "b = input('B) Já trabalhou com a vitima? ')\n",
    "c = input('C) Telefonou para a vitima? ')\n",
    "d = input('D) Esteve no local de crime?')\n",
    "e = input('E) Devia para a vitima? ')\n",
    "\n",
    "resultado = 5\n",
    "\n",
    "if a.upper() == 'NÃO':\n",
    "    resultado = resultado - 1\n",
    "if b.upper() == 'NÃO':\n",
    "    resultado = resultado - 1\n",
    "if c.upper() == 'NÃO':\n",
    "    resultado = resultado - 1\n",
    "if d.upper() == 'NÃO':\n",
    "    resultado = resultado - 1\n",
    "if e.upper() == 'NÃO':\n",
    "    resultado = resultado - 1\n",
    "if resultado == 5:\n",
    "    print(f'Culpado {resultado}')\n",
    "elif resultado == 4 or resultado == 3:\n",
    "    print(f'Cumplice {resultado}')\n",
    "elif resultado == 2 or resultado == 1:\n",
    "    print(f'suspeito {resultado}')\n",
    "else:\n",
    "    print(f'inocente {resultado}')       \n",
    "\n",
    "\n",
    "\n",
    "\n",
    "\n",
    "\n",
    "\n",
    "   \n",
    "          \n",
    "                             \n",
    "\n",
    "    "
   ]
  }
 ],
 "metadata": {
  "kernelspec": {
   "display_name": "base",
   "language": "python",
   "name": "python3"
  },
  "language_info": {
   "codemirror_mode": {
    "name": "ipython",
    "version": 3
   },
   "file_extension": ".py",
   "mimetype": "text/x-python",
   "name": "python",
   "nbconvert_exporter": "python",
   "pygments_lexer": "ipython3",
   "version": "3.11.7"
  }
 },
 "nbformat": 4,
 "nbformat_minor": 2
}
